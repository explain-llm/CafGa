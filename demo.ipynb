{
	"cells": [
		{
			"cell_type": "markdown",
			"metadata": {},
			"source": [
				"# CafGa (**C**ustom **a**ssignments **f**or **G**roup **a**ttribution) DEMO\n",
				"\n",
				"This demo is intended to get an overview of how the CafGa library works. To run it please follow the instructions in 'Demo Instructions.md'. \n"
			]
		},
		{
			"cell_type": "markdown",
			"metadata": {},
			"source": [
				"## Initialisation\n",
				"To begin using CafGa, we first instantiate a CafGa object. This is where we pass the model we would like to generate explanations for. In this case we use the predefined ChatGPT model. \n"
			]
		},
		{
			"cell_type": "code",
			"execution_count": null,
			"metadata": {},
			"outputs": [],
			"source": [
				"%load_ext autoreload\n",
				"%autoreload 2\n",
				"%env ANYWIDGET_HMR=1\n",
				"\n",
				"from cafga import CAFGA\n",
				"\n",
				"cafga = CAFGA(model=\"chatgpt\")"
			]
		},
		{
			"cell_type": "markdown",
			"metadata": {},
			"source": [
				"## Defining The Task\n",
				"\n",
				"Next we define the task for the model to solve. The template will act as a wrapper around the input that describes the task. The template will not be perturbed. Only the input string will be perturbed and each perturbation will be pasted into the `{input}` field. \n",
				"\n",
				"Finally, we define the target answer against which the model's responses will be matched to the correct answer which is 'e'. "
			]
		},
		{
			"cell_type": "code",
			"execution_count": null,
			"metadata": {},
			"outputs": [],
			"source": [
				"# Example Task\n",
				"input = \"\"\"I'm excited to use CafGa, but I'm not sure about it's usage.\"\"\"\n",
				"template = \"\"\"For the text snippet below answer whether it has positive or negative sentiment. \n",
				"Your answer should be only one word: 'posiitive' or 'negative'. Text snippet:\\n\n",
				"{input}\n",
				"\"\"\"\n",
				"target_answer = \"positive\""
			]
		},
		{
			"cell_type": "markdown",
			"metadata": {},
			"source": [
				"## Editing the Assignments\n",
				"\n",
				"To define the groups in the input over which you would like to get attributions you can use the edit widget to define the assignment of input segments to groups. "
			]
		},
		{
			"cell_type": "code",
			"execution_count": null,
			"metadata": {},
			"outputs": [],
			"source": [
				"cafga.edit_assignments(input, \"word\")"
			]
		},
		{
			"cell_type": "markdown",
			"metadata": {},
			"source": [
				"Run the cell below to see the effect of your edits once you have hit confirm."
			]
		},
		{
			"cell_type": "code",
			"execution_count": null,
			"metadata": {},
			"outputs": [],
			"source": [
				"#When you press confirm in the widget above you can see the updated input below\n",
				"edited_input = cafga.get_edited_input()\n",
				"print(edited_input)\n",
				"\n"
			]
		},
		{
			"cell_type": "markdown",
			"metadata": {},
			"source": [
				"## Getting the explanation\n",
				"\n",
				"Given the input segments, template, target answer and assingments from above, we now want to get an explanation using CafGa. Since we have already defined the model above, all that's left to do is instantiate the scalarizer.\n",
				"The scalarizer describes how the model's string output is converted to a scalar value.\n",
				"CafGa supports multi-dimensional output of the scalarizer allowing you to get separate attributions for each scalarizer. \n",
				"In this case, we are looking for the output to end with or contain the target answer."
			]
		},
		{
			"cell_type": "code",
			"execution_count": null,
			"metadata": {},
			"outputs": [],
			"source": [
				"scalarizer = [(\"EQUAL\", target_answer), (\"CONTAIN\", target_answer)]\n",
				"explanation = cafga.explain(\n",
				"    segmented_input=edited_input.input_segments,\n",
				"    custom_assignments=edited_input.group_assignments,\n",
				"    scalarizer=scalarizer,\n",
				"    template=template,\n",
				")"
			]
		},
		{
			"cell_type": "markdown",
			"metadata": {},
			"source": [
				"## Visualizing the Explanation\n",
				"\n",
				"Finally, we would like to visualize the explanation. Since we used a two-dimensional scalarizer we defacto got two explanations. Set the scalarizer_index to the index of the scalarizer for which you would like to see the explanation."
			]
		},
		{
			"cell_type": "code",
			"execution_count": null,
			"metadata": {},
			"outputs": [],
			"source": [
				"scalarizer_index = 0\n",
				"cafga.display_explanation(\n",
				"    input_segments=edited_input.input_segments,\n",
				"    group_assignments=edited_input.group_assignments,\n",
				"    attributions=explanation.attributions[scalarizer_index],\n",
				"    sample_name=edited_input.sample_name,\n",
				")"
			]
		},
		{
			"cell_type": "markdown",
			"metadata": {},
			"source": [
				"## Getting the Evaluation\n",
				"\n",
				"Now we evaluate the explanation we just received. To this end we call cafga.evaluate on the explained_input we just got and provide the evaluation parameters. This function will run the evaluation for each dimension of the scalarizer. "
			]
		},
		{
			"cell_type": "code",
			"execution_count": null,
			"metadata": {},
			"outputs": [],
			"source": [
				"evaluation = cafga.evaluate(\n",
				"    explanation,\n",
				"    scalarizer=scalarizer,\n",
				"    direction=edited_input.direction,\n",
				")"
			]
		},
		{
			"cell_type": "markdown",
			"metadata": {},
			"source": [
				"## Visualizing the Evaluation\n",
				"\n",
				"We now display the perturbation curve. As we again have multiple evaluations (one for each dimension of the scalarizer) we choose which evaluation to visualize by indicating the scalarizer_index.\n"
			]
		},
		{
			"cell_type": "code",
			"execution_count": null,
			"metadata": {},
			"outputs": [],
			"source": [
				"cafga.visualize_evaluation([evaluation], scalarizer_index=scalarizer_index)"
			]
		}
	],
	"metadata": {
		"kernelspec": {
			"display_name": "test",
			"language": "python",
			"name": "python3"
		},
		"language_info": {
			"codemirror_mode": {
				"name": "ipython",
				"version": 3
			},
			"file_extension": ".py",
			"mimetype": "text/x-python",
			"name": "python",
			"nbconvert_exporter": "python",
			"pygments_lexer": "ipython3",
			"version": "3.12.2"
		}
	},
	"nbformat": 4,
	"nbformat_minor": 2
}
